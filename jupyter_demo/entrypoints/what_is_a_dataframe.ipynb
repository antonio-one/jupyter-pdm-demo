{
 "cells": [
  {
   "cell_type": "markdown",
   "metadata": {
    "collapsed": true,
    "pycharm": {
     "name": "#%% md\n"
    }
   },
   "source": [
    "#### [What is a Dataframe?](https://pandas.pydata.org/pandas-docs/stable/user_guide/dsintro.html#dataframe)\n",
    "\n",
    "\n",
    "> DataFrame is a 2-dimensional labeled data structure with columns of potentially different types. You can think of it like a spreadsheet or SQL table, or a dict of Series objects. It is generally the most commonly used pandas object."
   ]
  },
  {
   "cell_type": "markdown",
   "source": [
    "#### What does it look like?"
   ],
   "metadata": {
    "collapsed": false,
    "pycharm": {
     "name": "#%% md\n"
    }
   }
  },
  {
   "cell_type": "code",
   "execution_count": 15,
   "outputs": [
    {
     "data": {
      "text/plain": "                      name                                                url  \\\n0  Pyrenean Mountaindog UK    https://www.facebook.com/groups/111621008927356   \n1  Pyrenean Mountaindog SE   https://www.facebook.com/groups/1316148681731540   \n2           Dog walk group  https://www.facebook.com/groups/localgroupdogw...   \n\n  joiners  \n0   12331  \n1  312312  \n2     124  ",
      "text/html": "<div>\n<style scoped>\n    .dataframe tbody tr th:only-of-type {\n        vertical-align: middle;\n    }\n\n    .dataframe tbody tr th {\n        vertical-align: top;\n    }\n\n    .dataframe thead th {\n        text-align: right;\n    }\n</style>\n<table border=\"1\" class=\"dataframe\">\n  <thead>\n    <tr style=\"text-align: right;\">\n      <th></th>\n      <th>name</th>\n      <th>url</th>\n      <th>joiners</th>\n    </tr>\n  </thead>\n  <tbody>\n    <tr>\n      <th>0</th>\n      <td>Pyrenean Mountaindog UK</td>\n      <td>https://www.facebook.com/groups/111621008927356</td>\n      <td>12331</td>\n    </tr>\n    <tr>\n      <th>1</th>\n      <td>Pyrenean Mountaindog SE</td>\n      <td>https://www.facebook.com/groups/1316148681731540</td>\n      <td>312312</td>\n    </tr>\n    <tr>\n      <th>2</th>\n      <td>Dog walk group</td>\n      <td>https://www.facebook.com/groups/localgroupdogw...</td>\n      <td>124</td>\n    </tr>\n  </tbody>\n</table>\n</div>"
     },
     "execution_count": 15,
     "metadata": {},
     "output_type": "execute_result"
    }
   ],
   "source": [
    "from pandas import DataFrame\n",
    "\n",
    "groups = {\n",
    "    \"name\": [\n",
    "        \"Pyrenean Mountaindog UK\",\n",
    "        \"Pyrenean Mountaindog SE\",\n",
    "        \"Dog walk group\",\n",
    "    ],\n",
    "    \"url\": [\n",
    "        \"https://www.facebook.com/groups/111621008927356\",\n",
    "        \"https://www.facebook.com/groups/1316148681731540\",\n",
    "        \"https://www.facebook.com/groups/localgroupdogwalkenfieldandsurroundingareas\",\n",
    "    ],\n",
    "    \"joiners\": [\n",
    "        \"12331\",\n",
    "        \"312312\",\n",
    "        \"124\"\n",
    "    ],\n",
    "}\n",
    "\n",
    "dataframe = DataFrame(groups)\n",
    "\n",
    "dataframe.head(3)\n"
   ],
   "metadata": {
    "collapsed": false,
    "pycharm": {
     "name": "#%%\n"
    }
   }
  }
 ],
 "metadata": {
  "kernelspec": {
   "display_name": "Python 3",
   "language": "python",
   "name": "python3"
  },
  "language_info": {
   "codemirror_mode": {
    "name": "ipython",
    "version": 2
   },
   "file_extension": ".py",
   "mimetype": "text/x-python",
   "name": "python",
   "nbconvert_exporter": "python",
   "pygments_lexer": "ipython2",
   "version": "2.7.6"
  }
 },
 "nbformat": 4,
 "nbformat_minor": 0
}
