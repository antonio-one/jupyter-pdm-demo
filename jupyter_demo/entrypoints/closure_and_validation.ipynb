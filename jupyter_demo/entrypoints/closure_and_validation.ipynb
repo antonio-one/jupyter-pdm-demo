{
 "cells": [
  {
   "cell_type": "code",
   "execution_count": 1,
   "metadata": {},
   "outputs": [],
   "source": [
    "from abc import abstractmethod\n",
    "from typing import Dict, List\n",
    "from IPython.core.display import display\n",
    "from ipywidgets import interact_manual\n",
    "from ipywidgets.widgets.widget_int import IntSlider\n",
    "from pandas import DataFrame\n",
    "from dataclasses import dataclass"
   ]
  },
  {
   "cell_type": "code",
   "execution_count": 2,
   "metadata": {
    "pycharm": {
     "name": "#%%\n"
    }
   },
   "outputs": [],
   "source": [
    "fb_groups = {\n",
    "    \"name\": [\n",
    "        \"Pyrenean Mountaindog UK\",\n",
    "        \"Pyrenean Mountaindog SE\",\n",
    "        \"Dog walk group\",\n",
    "    ],\n",
    "    \"url\": [\n",
    "        \"https://www.facebook.com/groups/111621008927356\",\n",
    "        \"https://www.facebook.com/groups/1316148681731540\",\n",
    "        \"https://www.facebook.com/groups/localgroupdogwalkenfieldandsurroundingareas\",\n",
    "    ],\n",
    "    \"joiners\": [\n",
    "        10,\n",
    "        20,\n",
    "        30\n",
    "    ],\n",
    "}"
   ]
  },
  {
   "cell_type": "code",
   "execution_count": 3,
   "metadata": {
    "pycharm": {
     "name": "#%%\n"
    }
   },
   "outputs": [],
   "source": [
    "groups_df = DataFrame(fb_groups)"
   ]
  },
  {
   "cell_type": "code",
   "execution_count": 4,
   "metadata": {
    "pycharm": {
     "name": "#%%\n"
    }
   },
   "outputs": [
    {
     "data": {
      "text/html": [
       "<div>\n",
       "<style scoped>\n",
       "    .dataframe tbody tr th:only-of-type {\n",
       "        vertical-align: middle;\n",
       "    }\n",
       "\n",
       "    .dataframe tbody tr th {\n",
       "        vertical-align: top;\n",
       "    }\n",
       "\n",
       "    .dataframe thead th {\n",
       "        text-align: right;\n",
       "    }\n",
       "</style>\n",
       "<table border=\"1\" class=\"dataframe\">\n",
       "  <thead>\n",
       "    <tr style=\"text-align: right;\">\n",
       "      <th></th>\n",
       "      <th>name</th>\n",
       "      <th>url</th>\n",
       "      <th>joiners</th>\n",
       "    </tr>\n",
       "  </thead>\n",
       "  <tbody>\n",
       "    <tr>\n",
       "      <th>0</th>\n",
       "      <td>Pyrenean Mountaindog UK</td>\n",
       "      <td>https://www.facebook.com/groups/111621008927356</td>\n",
       "      <td>10</td>\n",
       "    </tr>\n",
       "    <tr>\n",
       "      <th>1</th>\n",
       "      <td>Pyrenean Mountaindog SE</td>\n",
       "      <td>https://www.facebook.com/groups/1316148681731540</td>\n",
       "      <td>20</td>\n",
       "    </tr>\n",
       "  </tbody>\n",
       "</table>\n",
       "</div>"
      ],
      "text/plain": [
       "                      name                                               url  \\\n",
       "0  Pyrenean Mountaindog UK   https://www.facebook.com/groups/111621008927356   \n",
       "1  Pyrenean Mountaindog SE  https://www.facebook.com/groups/1316148681731540   \n",
       "\n",
       "   joiners  \n",
       "0       10  \n",
       "1       20  "
      ]
     },
     "execution_count": 4,
     "metadata": {},
     "output_type": "execute_result"
    }
   ],
   "source": [
    "groups_df.head(2)"
   ]
  },
  {
   "cell_type": "code",
   "execution_count": 5,
   "metadata": {
    "pycharm": {
     "name": "#%%\n"
    }
   },
   "outputs": [],
   "source": [
    "min_joiners = IntSlider(min=1, max=groups_df[\"joiners\"].max(), step=1, value=1)\n",
    "max_joiners = IntSlider(min=1, max=groups_df[\"joiners\"].max(), step=1, value=groups_df[\"joiners\"].max())"
   ]
  },
  {
   "cell_type": "code",
   "execution_count": 6,
   "metadata": {
    "pycharm": {
     "name": "#%%\n"
    }
   },
   "outputs": [
    {
     "data": {
      "application/vnd.jupyter.widget-view+json": {
       "model_id": "76a806b0f19a44c5a094ef9eaf29cd55",
       "version_major": 2,
       "version_minor": 0
      },
      "text/plain": [
       "interactive(children=(IntSlider(value=1, description='min_joiners', max=30, min=1), IntSlider(value=30, descri…"
      ]
     },
     "metadata": {},
     "output_type": "display_data"
    }
   ],
   "source": [
    "@interact_manual\n",
    "def display_plot(min_joiners=min_joiners, max_joiners=max_joiners):\n",
    "    display(\n",
    "        groups_df[\n",
    "        (groups_df[\"joiners\"] >= min_joiners)\n",
    "        & (groups_df[\"joiners\"] <= max_joiners)\n",
    "    ].sort_values(by=\"joiners\", ascending=False)\n",
    "    )"
   ]
  },
  {
   "cell_type": "markdown",
   "metadata": {
    "pycharm": {
     "name": "#%% md\n"
    }
   },
   "source": [
    "##### Since we want to hide the code we want to call the \"display_plot\" function independently\n",
    "Like this?\n",
    "\n",
    "```python\n",
    "display_plot(min_joiners=min_joiners, max_joiners=max_joiners)\n",
    "TypeError: '>=' not supported between instances of 'int' and 'IntSlider'\n",
    "```\n",
    "No."
   ]
  },
  {
   "cell_type": "markdown",
   "metadata": {
    "pycharm": {
     "name": "#%% md\n"
    }
   },
   "source": [
    "Like this?"
   ]
  },
  {
   "cell_type": "code",
   "execution_count": 8,
   "metadata": {
    "pycharm": {
     "name": "#%%\n"
    }
   },
   "outputs": [
    {
     "data": {
      "application/vnd.jupyter.widget-view+json": {
       "model_id": "823dbc0c87bb47ebb89ac1f2266e7288",
       "version_major": 2,
       "version_minor": 0
      },
      "text/plain": [
       "interactive(children=(IntSlider(value=1, description='min_joiners', max=30, min=1), IntSlider(value=30, descri…"
      ]
     },
     "metadata": {},
     "output_type": "display_data"
    },
    {
     "data": {
      "text/plain": [
       "<function __main__.display_plot(min_joiners=IntSlider(value=1, description='min_joiners', max=30, min=1), max_joiners=IntSlider(value=30, description='max_joiners', max=30, min=1))>"
      ]
     },
     "execution_count": 8,
     "metadata": {},
     "output_type": "execute_result"
    }
   ],
   "source": [
    "interact_manual(display_plot, min_joiners=min_joiners, max_joiners=max_joiners)"
   ]
  },
  {
   "cell_type": "markdown",
   "metadata": {
    "pycharm": {
     "name": "#%% md\n"
    }
   },
   "source": [
    "Maybe but you still have the magic of the dataframe not been explicitly passed as an argument.\n",
    "With the function been hidden away in a module it won't be 100% transparent.\n",
    "What would you do with the IntSliders? There are simply too many moving parts with this.\n",
    "(or maybe I don't know what I'm doing so feel free to comment)\n"
   ]
  },
  {
   "cell_type": "code",
   "execution_count": 29,
   "metadata": {
    "pycharm": {
     "name": "#%%\n"
    }
   },
   "outputs": [],
   "source": [
    "class AbstractDataclass:\n",
    "    def __init__(self, dataframe: DataFrame):\n",
    "        # TODO: add some optional type checking of the dataframe content\n",
    "        self.dataframe = dataframe\n",
    "        self.schema = {}\n",
    "        self._validate()\n",
    "\n",
    "    @abstractmethod\n",
    "    def display(self, *args):\n",
    "        return NotImplemented\n",
    "\n",
    "    @property\n",
    "    def _dataframe_columns(self) -> List[str]:\n",
    "        return sorted(self.dataframe.columns)\n",
    "\n",
    "    @property\n",
    "    def _schema_fields(self) -> List[str]:\n",
    "        return sorted(self.schema.keys())\n",
    "\n",
    "    def _validate(self) -> None:\n",
    "        if self._dataframe_columns != self._schema_fields:\n",
    "            raise ValueError(\"dataframe columns do not match\")"
   ]
  },
  {
   "cell_type": "code",
   "execution_count": 30,
   "metadata": {
    "pycharm": {
     "name": "#%%\n"
    }
   },
   "outputs": [],
   "source": [
    "class Groups(AbstractDataclass):\n",
    "    def __init__(self, dataframe: DataFrame):\n",
    "        super().__init__(dataframe)\n",
    "        self.dataframe = dataframe\n",
    "        self.schema = {\n",
    "            \"name\": str,\n",
    "            \"url\": str,\n",
    "            \"joiners\": int,\n",
    "        }\n",
    "        \n",
    "    def display(self):\n",
    "        @interact_manual(min_joiners=self.min_joiners, max_joiners=self.max_joiners)\n",
    "        def _display(min_joiners: IntSlider, max_joiners: IntSlider):\n",
    "            return self.dataframe[\n",
    "                (self.dataframe[\"joiners\"] > min_joiners)\n",
    "                & (self.dataframe[\"joiners\"] <= max_joiners)\n",
    "            ].sort_values(by=\"joiners\", ascending=False)\n",
    "\n",
    "    @property\n",
    "    def min_joiners(self) -> IntSlider:\n",
    "        return IntSlider(min=1, max=groups_df[\"joiners\"].max(), step=1, value=1)\n",
    "\n",
    "    @property\n",
    "    def max_joiners(self) -> IntSlider:\n",
    "        return IntSlider(min=1, max=groups_df[\"joiners\"].max(), step=1, value=groups_df[\"joiners\"].max())"
   ]
  },
  {
   "cell_type": "code",
   "execution_count": null,
   "metadata": {
    "pycharm": {
     "name": "#%%\n"
    }
   },
   "outputs": [
    {
     "name": "stdout",
     "output_type": "stream",
     "text": [
      "> \u001B[0;32m<ipython-input-29-ea84a44d27e0>\u001B[0m(22)\u001B[0;36m_validate\u001B[0;34m()\u001B[0m\n",
      "\u001B[0;32m     19 \u001B[0;31m\u001B[0;34m\u001B[0m\u001B[0m\n",
      "\u001B[0m\u001B[0;32m     20 \u001B[0;31m    \u001B[0;32mdef\u001B[0m \u001B[0m_validate\u001B[0m\u001B[0;34m(\u001B[0m\u001B[0mself\u001B[0m\u001B[0;34m)\u001B[0m \u001B[0;34m->\u001B[0m \u001B[0;32mNone\u001B[0m\u001B[0;34m:\u001B[0m\u001B[0;34m\u001B[0m\u001B[0;34m\u001B[0m\u001B[0m\n",
      "\u001B[0m\u001B[0;32m     21 \u001B[0;31m        \u001B[0mbreakpoint\u001B[0m\u001B[0;34m(\u001B[0m\u001B[0;34m)\u001B[0m\u001B[0;34m\u001B[0m\u001B[0;34m\u001B[0m\u001B[0m\n",
      "\u001B[0m\u001B[0;32m---> 22 \u001B[0;31m        \u001B[0;32mif\u001B[0m \u001B[0mself\u001B[0m\u001B[0;34m.\u001B[0m\u001B[0m_dataframe_columns\u001B[0m \u001B[0;34m!=\u001B[0m \u001B[0mself\u001B[0m\u001B[0;34m.\u001B[0m\u001B[0m_schema_fields\u001B[0m\u001B[0;34m:\u001B[0m\u001B[0;34m\u001B[0m\u001B[0;34m\u001B[0m\u001B[0m\n",
      "\u001B[0m\u001B[0;32m     23 \u001B[0;31m            \u001B[0;32mraise\u001B[0m \u001B[0mValueError\u001B[0m\u001B[0;34m(\u001B[0m\u001B[0;34m\"dataframe columns do not match\"\u001B[0m\u001B[0;34m)\u001B[0m\u001B[0;34m\u001B[0m\u001B[0;34m\u001B[0m\u001B[0m\n",
      "\u001B[0m\n",
      "ipdb> self._dataframe_columns\n",
      "['joiners', 'name', 'url']\n",
      "ipdb> self._schema_fields\n",
      "[]\n"
     ]
    }
   ],
   "source": [
    "groups = Groups(dataframe=groups_df)\n",
    "groups.display()"
   ]
  },
  {
   "cell_type": "markdown",
   "metadata": {
    "pycharm": {
     "name": "#%% md\n"
    }
   },
   "source": [
    "#### One last thing about some basic validation"
   ]
  },
  {
   "cell_type": "code",
   "execution_count": 17,
   "metadata": {
    "pycharm": {
     "name": "#%%\n"
    }
   },
   "outputs": [],
   "source": [
    "fb_groups_extra = {\n",
    "    \"name\": [\n",
    "        \"Pyrenean Mountaindog UK\",\n",
    "        \"Pyrenean Mountaindog SE\",\n",
    "        \"Dog walk group\",\n",
    "    ],\n",
    "    \"url\": [\n",
    "        \"https://www.facebook.com/groups/111621008927356\",\n",
    "        \"https://www.facebook.com/groups/1316148681731540\",\n",
    "        \"https://www.facebook.com/groups/localgroupdogwalkenfieldandsurroundingareas\",\n",
    "    ],\n",
    "    \"joiners\": [\n",
    "        10,\n",
    "        20,\n",
    "        30\n",
    "    ],\n",
    "    \"leavers\" : [\n",
    "        1,\n",
    "        2,\n",
    "        3\n",
    "    ],\n",
    "}"
   ]
  },
  {
   "cell_type": "code",
   "execution_count": 18,
   "metadata": {
    "pycharm": {
     "name": "#%%\n"
    }
   },
   "outputs": [],
   "source": [
    "fb_groups_extra_df = DataFrame(fb_groups_extra)"
   ]
  },
  {
   "cell_type": "code",
   "execution_count": 19,
   "metadata": {
    "pycharm": {
     "name": "#%%\n"
    }
   },
   "outputs": [
    {
     "data": {
      "text/html": [
       "<div>\n",
       "<style scoped>\n",
       "    .dataframe tbody tr th:only-of-type {\n",
       "        vertical-align: middle;\n",
       "    }\n",
       "\n",
       "    .dataframe tbody tr th {\n",
       "        vertical-align: top;\n",
       "    }\n",
       "\n",
       "    .dataframe thead th {\n",
       "        text-align: right;\n",
       "    }\n",
       "</style>\n",
       "<table border=\"1\" class=\"dataframe\">\n",
       "  <thead>\n",
       "    <tr style=\"text-align: right;\">\n",
       "      <th></th>\n",
       "      <th>name</th>\n",
       "      <th>url</th>\n",
       "      <th>joiners</th>\n",
       "      <th>leavers</th>\n",
       "    </tr>\n",
       "  </thead>\n",
       "  <tbody>\n",
       "    <tr>\n",
       "      <th>0</th>\n",
       "      <td>Pyrenean Mountaindog UK</td>\n",
       "      <td>https://www.facebook.com/groups/111621008927356</td>\n",
       "      <td>10</td>\n",
       "      <td>1</td>\n",
       "    </tr>\n",
       "    <tr>\n",
       "      <th>1</th>\n",
       "      <td>Pyrenean Mountaindog SE</td>\n",
       "      <td>https://www.facebook.com/groups/1316148681731540</td>\n",
       "      <td>20</td>\n",
       "      <td>2</td>\n",
       "    </tr>\n",
       "    <tr>\n",
       "      <th>2</th>\n",
       "      <td>Dog walk group</td>\n",
       "      <td>https://www.facebook.com/groups/localgroupdogw...</td>\n",
       "      <td>30</td>\n",
       "      <td>3</td>\n",
       "    </tr>\n",
       "  </tbody>\n",
       "</table>\n",
       "</div>"
      ],
      "text/plain": [
       "                      name                                                url  \\\n",
       "0  Pyrenean Mountaindog UK    https://www.facebook.com/groups/111621008927356   \n",
       "1  Pyrenean Mountaindog SE   https://www.facebook.com/groups/1316148681731540   \n",
       "2           Dog walk group  https://www.facebook.com/groups/localgroupdogw...   \n",
       "\n",
       "   joiners  leavers  \n",
       "0       10        1  \n",
       "1       20        2  \n",
       "2       30        3  "
      ]
     },
     "execution_count": 19,
     "metadata": {},
     "output_type": "execute_result"
    }
   ],
   "source": [
    "fb_groups_extra_df"
   ]
  },
  {
   "cell_type": "code",
   "execution_count": 20,
   "metadata": {
    "pycharm": {
     "name": "#%%\n"
    }
   },
   "outputs": [
    {
     "ename": "AttributeError",
     "evalue": "'Groups' object has no attribute 'schema'",
     "output_type": "error",
     "traceback": [
      "\u001B[0;31m---------------------------------------------------------------------------\u001B[0m",
      "\u001B[0;31mAttributeError\u001B[0m                            Traceback (most recent call last)",
      "\u001B[0;32m<ipython-input-20-263e03692a9c>\u001B[0m in \u001B[0;36m<module>\u001B[0;34m\u001B[0m\n\u001B[0;32m----> 1\u001B[0;31m \u001B[0mthis_should_not_work\u001B[0m \u001B[0;34m=\u001B[0m \u001B[0mGroups\u001B[0m\u001B[0;34m(\u001B[0m\u001B[0mdataframe\u001B[0m\u001B[0;34m=\u001B[0m\u001B[0mfb_groups_extra_df\u001B[0m\u001B[0;34m)\u001B[0m\u001B[0;34m\u001B[0m\u001B[0;34m\u001B[0m\u001B[0m\n\u001B[0m\u001B[1;32m      2\u001B[0m \u001B[0mthis_should_not_work\u001B[0m\u001B[0;34m.\u001B[0m\u001B[0mdisplay\u001B[0m\u001B[0;34m(\u001B[0m\u001B[0;34m)\u001B[0m\u001B[0;34m\u001B[0m\u001B[0;34m\u001B[0m\u001B[0m\n",
      "\u001B[0;32m<ipython-input-15-b9a31699ed59>\u001B[0m in \u001B[0;36m__init__\u001B[0;34m(self, dataframe, schema)\u001B[0m\n\u001B[1;32m      2\u001B[0m \u001B[0;32mclass\u001B[0m \u001B[0mGroups\u001B[0m\u001B[0;34m(\u001B[0m\u001B[0mAbstractDataclass\u001B[0m\u001B[0;34m)\u001B[0m\u001B[0;34m:\u001B[0m\u001B[0;34m\u001B[0m\u001B[0;34m\u001B[0m\u001B[0m\n\u001B[1;32m      3\u001B[0m     \u001B[0;32mdef\u001B[0m \u001B[0m__init__\u001B[0m\u001B[0;34m(\u001B[0m\u001B[0mself\u001B[0m\u001B[0;34m,\u001B[0m \u001B[0mdataframe\u001B[0m\u001B[0;34m:\u001B[0m \u001B[0mDataFrame\u001B[0m\u001B[0;34m,\u001B[0m \u001B[0mschema\u001B[0m\u001B[0;34m:\u001B[0m \u001B[0mDict\u001B[0m \u001B[0;34m=\u001B[0m \u001B[0;32mNone\u001B[0m\u001B[0;34m)\u001B[0m\u001B[0;34m:\u001B[0m\u001B[0;34m\u001B[0m\u001B[0;34m\u001B[0m\u001B[0m\n\u001B[0;32m----> 4\u001B[0;31m         \u001B[0msuper\u001B[0m\u001B[0;34m(\u001B[0m\u001B[0;34m)\u001B[0m\u001B[0;34m.\u001B[0m\u001B[0m__init__\u001B[0m\u001B[0;34m(\u001B[0m\u001B[0mdataframe\u001B[0m\u001B[0;34m)\u001B[0m\u001B[0;34m\u001B[0m\u001B[0;34m\u001B[0m\u001B[0m\n\u001B[0m\u001B[1;32m      5\u001B[0m         \u001B[0mself\u001B[0m\u001B[0;34m.\u001B[0m\u001B[0mdataframe\u001B[0m \u001B[0;34m=\u001B[0m \u001B[0mdataframe\u001B[0m\u001B[0;34m\u001B[0m\u001B[0;34m\u001B[0m\u001B[0m\n\u001B[1;32m      6\u001B[0m         self.schema = {\n",
      "\u001B[0;32m<ipython-input-12-ac74ef0dc4f3>\u001B[0m in \u001B[0;36m__init__\u001B[0;34m(self, dataframe)\u001B[0m\n\u001B[1;32m      4\u001B[0m         \u001B[0mself\u001B[0m\u001B[0;34m.\u001B[0m\u001B[0mdataframe\u001B[0m \u001B[0;34m=\u001B[0m \u001B[0mdataframe\u001B[0m\u001B[0;34m\u001B[0m\u001B[0;34m\u001B[0m\u001B[0m\n\u001B[1;32m      5\u001B[0m         \u001B[0mself\u001B[0m\u001B[0;34m.\u001B[0m\u001B[0mschema\u001B[0m\u001B[0;34m:\u001B[0m \u001B[0mDict\u001B[0m\u001B[0;34m[\u001B[0m\u001B[0mstr\u001B[0m\u001B[0;34m,\u001B[0m \u001B[0many\u001B[0m\u001B[0;34m]\u001B[0m\u001B[0;34m\u001B[0m\u001B[0;34m\u001B[0m\u001B[0m\n\u001B[0;32m----> 6\u001B[0;31m         \u001B[0mself\u001B[0m\u001B[0;34m.\u001B[0m\u001B[0m_validate\u001B[0m\u001B[0;34m(\u001B[0m\u001B[0;34m)\u001B[0m\u001B[0;34m\u001B[0m\u001B[0;34m\u001B[0m\u001B[0m\n\u001B[0m\u001B[1;32m      7\u001B[0m \u001B[0;34m\u001B[0m\u001B[0m\n\u001B[1;32m      8\u001B[0m     \u001B[0;34m@\u001B[0m\u001B[0mabstractmethod\u001B[0m\u001B[0;34m\u001B[0m\u001B[0;34m\u001B[0m\u001B[0m\n",
      "\u001B[0;32m<ipython-input-12-ac74ef0dc4f3>\u001B[0m in \u001B[0;36m_validate\u001B[0;34m(self)\u001B[0m\n\u001B[1;32m     19\u001B[0m \u001B[0;34m\u001B[0m\u001B[0m\n\u001B[1;32m     20\u001B[0m     \u001B[0;32mdef\u001B[0m \u001B[0m_validate\u001B[0m\u001B[0;34m(\u001B[0m\u001B[0mself\u001B[0m\u001B[0;34m)\u001B[0m \u001B[0;34m->\u001B[0m \u001B[0;32mNone\u001B[0m\u001B[0;34m:\u001B[0m\u001B[0;34m\u001B[0m\u001B[0;34m\u001B[0m\u001B[0m\n\u001B[0;32m---> 21\u001B[0;31m         \u001B[0;32mif\u001B[0m \u001B[0mself\u001B[0m\u001B[0;34m.\u001B[0m\u001B[0m_dataframe_columns\u001B[0m \u001B[0;34m!=\u001B[0m \u001B[0mself\u001B[0m\u001B[0;34m.\u001B[0m\u001B[0m_schema_fields\u001B[0m\u001B[0;34m:\u001B[0m\u001B[0;34m\u001B[0m\u001B[0;34m\u001B[0m\u001B[0m\n\u001B[0m\u001B[1;32m     22\u001B[0m             \u001B[0;32mraise\u001B[0m \u001B[0mValueError\u001B[0m\u001B[0;34m(\u001B[0m\u001B[0;34m\"dataframe columns do not match\"\u001B[0m\u001B[0;34m)\u001B[0m\u001B[0;34m\u001B[0m\u001B[0;34m\u001B[0m\u001B[0m\n",
      "\u001B[0;32m<ipython-input-12-ac74ef0dc4f3>\u001B[0m in \u001B[0;36m_schema_fields\u001B[0;34m(self)\u001B[0m\n\u001B[1;32m     16\u001B[0m     \u001B[0;34m@\u001B[0m\u001B[0mproperty\u001B[0m\u001B[0;34m\u001B[0m\u001B[0;34m\u001B[0m\u001B[0m\n\u001B[1;32m     17\u001B[0m     \u001B[0;32mdef\u001B[0m \u001B[0m_schema_fields\u001B[0m\u001B[0;34m(\u001B[0m\u001B[0mself\u001B[0m\u001B[0;34m)\u001B[0m \u001B[0;34m->\u001B[0m \u001B[0mList\u001B[0m\u001B[0;34m[\u001B[0m\u001B[0mstr\u001B[0m\u001B[0;34m]\u001B[0m\u001B[0;34m:\u001B[0m\u001B[0;34m\u001B[0m\u001B[0;34m\u001B[0m\u001B[0m\n\u001B[0;32m---> 18\u001B[0;31m         \u001B[0;32mreturn\u001B[0m \u001B[0msorted\u001B[0m\u001B[0;34m(\u001B[0m\u001B[0mself\u001B[0m\u001B[0;34m.\u001B[0m\u001B[0mschema\u001B[0m\u001B[0;34m.\u001B[0m\u001B[0mkeys\u001B[0m\u001B[0;34m(\u001B[0m\u001B[0;34m)\u001B[0m\u001B[0;34m)\u001B[0m\u001B[0;34m\u001B[0m\u001B[0;34m\u001B[0m\u001B[0m\n\u001B[0m\u001B[1;32m     19\u001B[0m \u001B[0;34m\u001B[0m\u001B[0m\n\u001B[1;32m     20\u001B[0m     \u001B[0;32mdef\u001B[0m \u001B[0m_validate\u001B[0m\u001B[0;34m(\u001B[0m\u001B[0mself\u001B[0m\u001B[0;34m)\u001B[0m \u001B[0;34m->\u001B[0m \u001B[0;32mNone\u001B[0m\u001B[0;34m:\u001B[0m\u001B[0;34m\u001B[0m\u001B[0;34m\u001B[0m\u001B[0m\n",
      "\u001B[0;31mAttributeError\u001B[0m: 'Groups' object has no attribute 'schema'"
     ]
    }
   ],
   "source": [
    "this_should_not_work = Groups(dataframe=fb_groups_extra_df)\n",
    "this_should_not_work.display()"
   ]
  },
  {
   "cell_type": "code",
   "execution_count": null,
   "metadata": {},
   "outputs": [],
   "source": []
  }
 ],
 "metadata": {
  "kernelspec": {
   "display_name": "Python 3",
   "language": "python",
   "name": "python3"
  },
  "language_info": {
   "codemirror_mode": {
    "name": "ipython",
    "version": 3
   },
   "file_extension": ".py",
   "mimetype": "text/x-python",
   "name": "python",
   "nbconvert_exporter": "python",
   "pygments_lexer": "ipython3",
   "version": "3.9.4"
  }
 },
 "nbformat": 4,
 "nbformat_minor": 1
}
