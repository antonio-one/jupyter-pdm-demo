{
 "cells": [
  {
   "cell_type": "code",
   "execution_count": 1,
   "metadata": {},
   "outputs": [],
   "source": [
    "from abc import abstractmethod\n",
    "from typing import Dict, List, Optional\n",
    "from IPython.core.display import display\n",
    "from ipywidgets import interact_manual\n",
    "from ipywidgets.widgets.widget_int import IntSlider\n",
    "from pandas import DataFrame"
   ]
  },
  {
   "cell_type": "code",
   "execution_count": 2,
   "metadata": {
    "pycharm": {
     "name": "#%%\n"
    }
   },
   "outputs": [],
   "source": [
    "fb_groups = {\n",
    "    \"name\": [\n",
    "        \"Pyrenean Mountaindog UK\",\n",
    "        \"Pyrenean Mountaindog SE\",\n",
    "        \"Dog walk group\",\n",
    "    ],\n",
    "    \"url\": [\n",
    "        \"https://www.facebook.com/groups/111621008927356\",\n",
    "        \"https://www.facebook.com/groups/1316148681731540\",\n",
    "        \"https://www.facebook.com/groups/localgroupdogwalkenfieldandsurroundingareas\",\n",
    "    ],\n",
    "    \"joiners\": [\n",
    "        10,\n",
    "        20,\n",
    "        30\n",
    "    ],\n",
    "}"
   ]
  },
  {
   "cell_type": "code",
   "execution_count": 3,
   "metadata": {
    "pycharm": {
     "name": "#%%\n"
    }
   },
   "outputs": [],
   "source": [
    "groups_df = DataFrame(fb_groups)"
   ]
  },
  {
   "cell_type": "code",
   "execution_count": 4,
   "metadata": {
    "pycharm": {
     "name": "#%%\n"
    }
   },
   "outputs": [
    {
     "data": {
      "text/html": [
       "<div>\n",
       "<style scoped>\n",
       "    .dataframe tbody tr th:only-of-type {\n",
       "        vertical-align: middle;\n",
       "    }\n",
       "\n",
       "    .dataframe tbody tr th {\n",
       "        vertical-align: top;\n",
       "    }\n",
       "\n",
       "    .dataframe thead th {\n",
       "        text-align: right;\n",
       "    }\n",
       "</style>\n",
       "<table border=\"1\" class=\"dataframe\">\n",
       "  <thead>\n",
       "    <tr style=\"text-align: right;\">\n",
       "      <th></th>\n",
       "      <th>name</th>\n",
       "      <th>url</th>\n",
       "      <th>joiners</th>\n",
       "    </tr>\n",
       "  </thead>\n",
       "  <tbody>\n",
       "    <tr>\n",
       "      <th>0</th>\n",
       "      <td>Pyrenean Mountaindog UK</td>\n",
       "      <td>https://www.facebook.com/groups/111621008927356</td>\n",
       "      <td>10</td>\n",
       "    </tr>\n",
       "    <tr>\n",
       "      <th>1</th>\n",
       "      <td>Pyrenean Mountaindog SE</td>\n",
       "      <td>https://www.facebook.com/groups/1316148681731540</td>\n",
       "      <td>20</td>\n",
       "    </tr>\n",
       "    <tr>\n",
       "      <th>2</th>\n",
       "      <td>Dog walk group</td>\n",
       "      <td>https://www.facebook.com/groups/localgroupdogw...</td>\n",
       "      <td>30</td>\n",
       "    </tr>\n",
       "  </tbody>\n",
       "</table>\n",
       "</div>"
      ],
      "text/plain": [
       "                      name                                                url  \\\n",
       "0  Pyrenean Mountaindog UK    https://www.facebook.com/groups/111621008927356   \n",
       "1  Pyrenean Mountaindog SE   https://www.facebook.com/groups/1316148681731540   \n",
       "2           Dog walk group  https://www.facebook.com/groups/localgroupdogw...   \n",
       "\n",
       "   joiners  \n",
       "0       10  \n",
       "1       20  \n",
       "2       30  "
      ]
     },
     "execution_count": 4,
     "metadata": {},
     "output_type": "execute_result"
    }
   ],
   "source": [
    "groups_df.head(3)"
   ]
  },
  {
   "cell_type": "code",
   "execution_count": 5,
   "metadata": {
    "pycharm": {
     "name": "#%%\n"
    }
   },
   "outputs": [],
   "source": [
    "min_joiners = IntSlider(min=1, max=groups_df[\"joiners\"].max(), step=1, value=1)\n",
    "max_joiners = IntSlider(min=1, max=groups_df[\"joiners\"].max(), step=1, value=groups_df[\"joiners\"].max())"
   ]
  },
  {
   "cell_type": "code",
   "execution_count": 6,
   "metadata": {
    "pycharm": {
     "name": "#%%\n"
    }
   },
   "outputs": [
    {
     "data": {
      "application/vnd.jupyter.widget-view+json": {
       "model_id": "55bbbc170fd74e959762b2396a905c06",
       "version_major": 2,
       "version_minor": 0
      },
      "text/plain": [
       "interactive(children=(IntSlider(value=1, description='min_joiners', max=30, min=1), IntSlider(value=30, descri…"
      ]
     },
     "metadata": {},
     "output_type": "display_data"
    }
   ],
   "source": [
    "@interact_manual\n",
    "def display_plot(min_joiners=min_joiners, max_joiners=max_joiners):\n",
    "    display(\n",
    "        groups_df[\n",
    "        (groups_df[\"joiners\"] >= min_joiners)\n",
    "        & (groups_df[\"joiners\"] <= max_joiners)\n",
    "    ].sort_values(by=\"joiners\", ascending=False)\n",
    "    )"
   ]
  },
  {
   "cell_type": "markdown",
   "metadata": {
    "pycharm": {
     "name": "#%% md\n"
    }
   },
   "source": [
    "##### Since we want to hide the code we want to call the \"display_plot\" function independently\n",
    "Like this?\n",
    "\n",
    "```python\n",
    "display_plot(min_joiners=min_joiners, max_joiners=max_joiners)\n",
    "TypeError: '>=' not supported between instances of 'int' and 'IntSlider'\n",
    "```\n",
    "No."
   ]
  },
  {
   "cell_type": "markdown",
   "metadata": {
    "pycharm": {
     "name": "#%% md\n"
    }
   },
   "source": [
    "Like this?"
   ]
  },
  {
   "cell_type": "code",
   "execution_count": 7,
   "metadata": {
    "pycharm": {
     "name": "#%%\n"
    }
   },
   "outputs": [
    {
     "data": {
      "application/vnd.jupyter.widget-view+json": {
       "model_id": "4369e08a1f62405cbf6ed82ccde687f8",
       "version_major": 2,
       "version_minor": 0
      },
      "text/plain": [
       "interactive(children=(IntSlider(value=15, description='min_joiners', max=30, min=1), IntSlider(value=30, descr…"
      ]
     },
     "metadata": {},
     "output_type": "display_data"
    },
    {
     "data": {
      "text/plain": [
       "<function __main__.display_plot(min_joiners=IntSlider(value=15, description='min_joiners', max=30, min=1), max_joiners=IntSlider(value=30, description='max_joiners', max=30, min=1))>"
      ]
     },
     "execution_count": 7,
     "metadata": {},
     "output_type": "execute_result"
    }
   ],
   "source": [
    "interact_manual(display_plot, min_joiners=min_joiners, max_joiners=max_joiners)"
   ]
  },
  {
   "cell_type": "markdown",
   "metadata": {
    "pycharm": {
     "name": "#%% md\n"
    }
   },
   "source": [
    "Maybe but you still have the magic of the dataframe not been explicitly passed as an argument.\n",
    "With the function been hidden away in a module it won't be 100% transparent.\n",
    "What would you do with the IntSliders? There are simply too many moving parts with this.\n",
    "(or maybe I don't know what I'm doing so feel free to comment)\n"
   ]
  },
  {
   "cell_type": "code",
   "execution_count": 26,
   "metadata": {
    "pycharm": {
     "name": "#%%\n"
    }
   },
   "outputs": [],
   "source": [
    "class AbstractDataclass:\n",
    "    def __init__(self, dataframe: DataFrame, schema: Optional[Dict[str, any]]):\n",
    "        self.dataframe = dataframe\n",
    "        self.schema = schema\n",
    "        self._validate()\n",
    "\n",
    "    @abstractmethod\n",
    "    def display(self, *args):\n",
    "        return NotImplemented\n",
    "\n",
    "    @property\n",
    "    def _dataframe_columns(self) -> List[str]:\n",
    "        return sorted(self.dataframe.columns)\n",
    "\n",
    "    @property\n",
    "    def _schema_fields(self) -> List[str]:\n",
    "        return sorted(self.schema.keys())\n",
    "\n",
    "    def _validate(self) -> None:\n",
    "        if self._dataframe_columns != self._schema_fields:\n",
    "            raise ValueError(f\"dataframe columns names do not match.\\n\"\n",
    "                             f\"Want: {self._schema_fields},\\n\"\n",
    "                             f\"Got: {self._dataframe_columns}\")"
   ]
  },
  {
   "cell_type": "code",
   "execution_count": 14,
   "metadata": {
    "pycharm": {
     "name": "#%%\n"
    }
   },
   "outputs": [],
   "source": [
    "class Groups(AbstractDataclass):\n",
    "    def __init__(self, dataframe: DataFrame):\n",
    "        self.dataframe = dataframe\n",
    "        self.schema = {\n",
    "            \"name\": str,\n",
    "            \"url\": str,\n",
    "            \"joiners\": int,\n",
    "        }\n",
    "        super().__init__(dataframe, schema=self.schema)\n",
    "\n",
    "    def display(self):\n",
    "        @interact_manual(min_joiners=self.min_joiners, max_joiners=self.max_joiners)\n",
    "        def _display(min_joiners: IntSlider, max_joiners: IntSlider):\n",
    "            return self.dataframe[\n",
    "                (self.dataframe[\"joiners\"] > min_joiners)\n",
    "                & (self.dataframe[\"joiners\"] <= max_joiners)\n",
    "            ].sort_values(by=\"joiners\", ascending=False)\n",
    "\n",
    "    @property\n",
    "    def min_joiners(self) -> IntSlider:\n",
    "        return IntSlider(min=1, max=groups_df[\"joiners\"].max(), step=1, value=1)\n",
    "\n",
    "    @property\n",
    "    def max_joiners(self) -> IntSlider:\n",
    "        return IntSlider(min=1, max=groups_df[\"joiners\"].max(), step=1, value=groups_df[\"joiners\"].max())"
   ]
  },
  {
   "cell_type": "code",
   "execution_count": 27,
   "metadata": {
    "pycharm": {
     "name": "#%%\n"
    }
   },
   "outputs": [
    {
     "data": {
      "application/vnd.jupyter.widget-view+json": {
       "model_id": "4c22914ae36f400ab681076abb2c2214",
       "version_major": 2,
       "version_minor": 0
      },
      "text/plain": [
       "interactive(children=(IntSlider(value=1, description='min_joiners', max=30, min=1), IntSlider(value=30, descri…"
      ]
     },
     "metadata": {},
     "output_type": "display_data"
    }
   ],
   "source": [
    "groups = Groups(dataframe=groups_df)\n",
    "groups.display()"
   ]
  },
  {
   "cell_type": "markdown",
   "metadata": {
    "pycharm": {
     "name": "#%% md\n"
    }
   },
   "source": [
    "#### One last thing about some basic validation"
   ]
  },
  {
   "cell_type": "code",
   "execution_count": 28,
   "metadata": {
    "pycharm": {
     "name": "#%%\n"
    }
   },
   "outputs": [],
   "source": [
    "fb_groups_extra = {\n",
    "    \"name\": [\n",
    "        \"Pyrenean Mountaindog UK\",\n",
    "        \"Pyrenean Mountaindog SE\",\n",
    "        \"Dog walk group\",\n",
    "    ],\n",
    "    \"url\": [\n",
    "        \"https://www.facebook.com/groups/111621008927356\",\n",
    "        \"https://www.facebook.com/groups/1316148681731540\",\n",
    "        \"https://www.facebook.com/groups/localgroupdogwalkenfieldandsurroundingareas\",\n",
    "    ],\n",
    "    \"joiners\": [\n",
    "        10,\n",
    "        20,\n",
    "        30\n",
    "    ],\n",
    "    \"leavers\" : [\n",
    "        1,\n",
    "        2,\n",
    "        3\n",
    "    ],\n",
    "}"
   ]
  },
  {
   "cell_type": "code",
   "execution_count": 29,
   "metadata": {
    "pycharm": {
     "name": "#%%\n"
    }
   },
   "outputs": [],
   "source": [
    "fb_groups_extra_df = DataFrame(fb_groups_extra)"
   ]
  },
  {
   "cell_type": "code",
   "execution_count": 30,
   "metadata": {
    "pycharm": {
     "name": "#%%\n"
    }
   },
   "outputs": [
    {
     "ename": "ValueError",
     "evalue": "dataframe columns names do not match.\nWant: ['joiners', 'name', 'url'],\nGot: ['joiners', 'leavers', 'name', 'url']",
     "output_type": "error",
     "traceback": [
      "\u001B[0;31m---------------------------------------------------------------------------\u001B[0m",
      "\u001B[0;31mValueError\u001B[0m                                Traceback (most recent call last)",
      "\u001B[0;32m<ipython-input-30-5eab80aa4518>\u001B[0m in \u001B[0;36m<module>\u001B[0;34m\u001B[0m\n\u001B[0;32m----> 1\u001B[0;31m \u001B[0mthis_should_not_work\u001B[0m \u001B[0;34m=\u001B[0m \u001B[0mGroups\u001B[0m\u001B[0;34m(\u001B[0m\u001B[0mdataframe\u001B[0m\u001B[0;34m=\u001B[0m\u001B[0mfb_groups_extra_df\u001B[0m\u001B[0;34m)\u001B[0m\u001B[0;34m\u001B[0m\u001B[0;34m\u001B[0m\u001B[0m\n\u001B[0m",
      "\u001B[0;32m<ipython-input-14-673d3ce1ebf7>\u001B[0m in \u001B[0;36m__init__\u001B[0;34m(self, dataframe)\u001B[0m\n\u001B[1;32m      7\u001B[0m             \u001B[0;34m\"joiners\"\u001B[0m\u001B[0;34m:\u001B[0m \u001B[0mint\u001B[0m\u001B[0;34m,\u001B[0m\u001B[0;34m\u001B[0m\u001B[0;34m\u001B[0m\u001B[0m\n\u001B[1;32m      8\u001B[0m         }\n\u001B[0;32m----> 9\u001B[0;31m         \u001B[0msuper\u001B[0m\u001B[0;34m(\u001B[0m\u001B[0;34m)\u001B[0m\u001B[0;34m.\u001B[0m\u001B[0m__init__\u001B[0m\u001B[0;34m(\u001B[0m\u001B[0mdataframe\u001B[0m\u001B[0;34m,\u001B[0m \u001B[0mschema\u001B[0m\u001B[0;34m=\u001B[0m\u001B[0mself\u001B[0m\u001B[0;34m.\u001B[0m\u001B[0mschema\u001B[0m\u001B[0;34m)\u001B[0m\u001B[0;34m\u001B[0m\u001B[0;34m\u001B[0m\u001B[0m\n\u001B[0m\u001B[1;32m     10\u001B[0m \u001B[0;34m\u001B[0m\u001B[0m\n\u001B[1;32m     11\u001B[0m     \u001B[0;32mdef\u001B[0m \u001B[0mdisplay\u001B[0m\u001B[0;34m(\u001B[0m\u001B[0mself\u001B[0m\u001B[0;34m)\u001B[0m\u001B[0;34m:\u001B[0m\u001B[0;34m\u001B[0m\u001B[0;34m\u001B[0m\u001B[0m\n",
      "\u001B[0;32m<ipython-input-13-7b76b78b73b0>\u001B[0m in \u001B[0;36m__init__\u001B[0;34m(self, dataframe, schema)\u001B[0m\n\u001B[1;32m      4\u001B[0m         \u001B[0mself\u001B[0m\u001B[0;34m.\u001B[0m\u001B[0mdataframe\u001B[0m \u001B[0;34m=\u001B[0m \u001B[0mdataframe\u001B[0m\u001B[0;34m\u001B[0m\u001B[0;34m\u001B[0m\u001B[0m\n\u001B[1;32m      5\u001B[0m         \u001B[0mself\u001B[0m\u001B[0;34m.\u001B[0m\u001B[0mschema\u001B[0m \u001B[0;34m=\u001B[0m \u001B[0mschema\u001B[0m\u001B[0;34m\u001B[0m\u001B[0;34m\u001B[0m\u001B[0m\n\u001B[0;32m----> 6\u001B[0;31m         \u001B[0mself\u001B[0m\u001B[0;34m.\u001B[0m\u001B[0m_validate\u001B[0m\u001B[0;34m(\u001B[0m\u001B[0;34m)\u001B[0m\u001B[0;34m\u001B[0m\u001B[0;34m\u001B[0m\u001B[0m\n\u001B[0m\u001B[1;32m      7\u001B[0m \u001B[0;34m\u001B[0m\u001B[0m\n\u001B[1;32m      8\u001B[0m     \u001B[0;34m@\u001B[0m\u001B[0mabstractmethod\u001B[0m\u001B[0;34m\u001B[0m\u001B[0;34m\u001B[0m\u001B[0m\n",
      "\u001B[0;32m<ipython-input-13-7b76b78b73b0>\u001B[0m in \u001B[0;36m_validate\u001B[0;34m(self)\u001B[0m\n\u001B[1;32m     20\u001B[0m     \u001B[0;32mdef\u001B[0m \u001B[0m_validate\u001B[0m\u001B[0;34m(\u001B[0m\u001B[0mself\u001B[0m\u001B[0;34m)\u001B[0m \u001B[0;34m->\u001B[0m \u001B[0;32mNone\u001B[0m\u001B[0;34m:\u001B[0m\u001B[0;34m\u001B[0m\u001B[0;34m\u001B[0m\u001B[0m\n\u001B[1;32m     21\u001B[0m         \u001B[0;32mif\u001B[0m \u001B[0mself\u001B[0m\u001B[0;34m.\u001B[0m\u001B[0m_dataframe_columns\u001B[0m \u001B[0;34m!=\u001B[0m \u001B[0mself\u001B[0m\u001B[0;34m.\u001B[0m\u001B[0m_schema_fields\u001B[0m\u001B[0;34m:\u001B[0m\u001B[0;34m\u001B[0m\u001B[0;34m\u001B[0m\u001B[0m\n\u001B[0;32m---> 22\u001B[0;31m             raise ValueError(f\"dataframe columns names do not match.\\n\"\n\u001B[0m\u001B[1;32m     23\u001B[0m                              \u001B[0;34mf\"Want: {self._schema_fields},\\n\"\u001B[0m\u001B[0;34m\u001B[0m\u001B[0;34m\u001B[0m\u001B[0m\n\u001B[1;32m     24\u001B[0m                              f\"Got: {self._dataframe_columns}\")\n",
      "\u001B[0;31mValueError\u001B[0m: dataframe columns names do not match.\nWant: ['joiners', 'name', 'url'],\nGot: ['joiners', 'leavers', 'name', 'url']"
     ]
    }
   ],
   "source": [
    "this_should_not_work = Groups(dataframe=fb_groups_extra_df)"
   ]
  },
  {
   "cell_type": "code",
   "execution_count": null,
   "metadata": {
    "pycharm": {
     "name": "#%%\n"
    }
   },
   "outputs": [],
   "source": [
    "# from geopandas import read_file, datasets as geo_datasets\n",
    "# import matplotlib.pyplot as plt\n",
    "# fig, ax = plt.subplots()\n",
    "# world = read_file(geo_datasets.get_path(\"naturalearth_lowres\"))\n",
    "# north_america = world.query('continent == \"North America\"')\n",
    "# north_america.plot(ax=ax, alpha=0.2, color=\"#00296b\", edgecolor=\"#faf6f6\")\n"
   ]
  }
 ],
 "metadata": {
  "kernelspec": {
   "display_name": "Python 3",
   "language": "python",
   "name": "python3"
  },
  "language_info": {
   "codemirror_mode": {
    "name": "ipython",
    "version": 3
   },
   "file_extension": ".py",
   "mimetype": "text/x-python",
   "name": "python",
   "nbconvert_exporter": "python",
   "pygments_lexer": "ipython3",
   "version": "3.9.4"
  }
 },
 "nbformat": 4,
 "nbformat_minor": 1
}
