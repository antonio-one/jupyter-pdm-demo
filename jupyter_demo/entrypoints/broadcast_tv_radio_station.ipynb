{
 "cells": [
  {
   "cell_type": "code",
   "execution_count": 1,
   "metadata": {},
   "outputs": [],
   "source": [
    "import pandas as pd\n",
    "from jupyter_demo.utils import query_or_load, set_plot_opts\n",
    "from jupyter_demo.content.sql_queries import tv_radio_station\n",
    "from IPython.core.display import display\n",
    "from jupyter_demo.content.plots import USMap, Distribution, HighLevelTable, MoreDetailTable\n"
   ]
  },
  {
   "cell_type": "code",
   "execution_count": 2,
   "metadata": {
    "pycharm": {
     "name": "#%%\n"
    }
   },
   "outputs": [],
   "source": [
    "set_plot_opts()"
   ]
  },
  {
   "cell_type": "markdown",
   "metadata": {
    "pycharm": {
     "name": "#%% md\n"
    }
   },
   "source": [
    "### Table of Contents <a name=\"toc\"></a>\n",
    "* [US Broadcast TV/Radio Stations](#1)\n",
    "* [City and State Coordinates](#2)\n",
    "* [Join Coordinates and Stations](#3)\n",
    "* [High Level Aggregation](#4)\n",
    "* [More Detail](#5)\n",
    "* [Media Station Distribution](#6)\n",
    "* [Geographical Distribution by City](#7\")\n"
   ]
  },
  {
   "cell_type": "markdown",
   "metadata": {
    "pycharm": {
     "name": "#%% md\n"
    }
   },
   "source": [
    "#### US Broadcast TV/Radio Stations <a name=\"1\"></a>\n",
    "\n",
    "[back to top](#toc)"
   ]
  },
  {
   "cell_type": "code",
   "execution_count": 3,
   "metadata": {
    "pycharm": {
     "name": "#%%\n"
    }
   },
   "outputs": [
    {
     "name": "stdout",
     "output_type": "stream",
     "text": [
      "\n",
      "SELECT\n",
      "    communityState,\n",
      "    INITCAP(communityCity) as communityCity,\n",
      "    service,\n",
      "    status,\n",
      "    COUNT(DISTINCT stationId) AS number_of_stations\n",
      "FROM `bigquery-public-data.fcc_political_ads.broadcast_tv_radio_station`\n",
      "GROUP BY communityState, communityCity, service, status\n",
      "\n"
     ]
    }
   ],
   "source": [
    "print(tv_radio_station.sql_command)"
   ]
  },
  {
   "cell_type": "code",
   "execution_count": 4,
   "metadata": {
    "pycharm": {
     "name": "#%%\n"
    }
   },
   "outputs": [
    {
     "data": {
      "text/plain": "  communityState communityCity     service    status  number_of_stations\n0             MO     St. Louis  Digital TV  LICENSED                   6\n1             CA         Mecca  FM Station  LICENSED                   3\n2             PR    Rio Grande  FM Station  LICENSED                   1\n3             PR  Quebradillas  FM Station  LICENSED                   2\n4             ID   Island Park  FM Station  LICENSED                   1",
      "text/html": "<div>\n<style scoped>\n    .dataframe tbody tr th:only-of-type {\n        vertical-align: middle;\n    }\n\n    .dataframe tbody tr th {\n        vertical-align: top;\n    }\n\n    .dataframe thead th {\n        text-align: right;\n    }\n</style>\n<table border=\"1\" class=\"dataframe\">\n  <thead>\n    <tr style=\"text-align: right;\">\n      <th></th>\n      <th>communityState</th>\n      <th>communityCity</th>\n      <th>service</th>\n      <th>status</th>\n      <th>number_of_stations</th>\n    </tr>\n  </thead>\n  <tbody>\n    <tr>\n      <th>0</th>\n      <td>MO</td>\n      <td>St. Louis</td>\n      <td>Digital TV</td>\n      <td>LICENSED</td>\n      <td>6</td>\n    </tr>\n    <tr>\n      <th>1</th>\n      <td>CA</td>\n      <td>Mecca</td>\n      <td>FM Station</td>\n      <td>LICENSED</td>\n      <td>3</td>\n    </tr>\n    <tr>\n      <th>2</th>\n      <td>PR</td>\n      <td>Rio Grande</td>\n      <td>FM Station</td>\n      <td>LICENSED</td>\n      <td>1</td>\n    </tr>\n    <tr>\n      <th>3</th>\n      <td>PR</td>\n      <td>Quebradillas</td>\n      <td>FM Station</td>\n      <td>LICENSED</td>\n      <td>2</td>\n    </tr>\n    <tr>\n      <th>4</th>\n      <td>ID</td>\n      <td>Island Park</td>\n      <td>FM Station</td>\n      <td>LICENSED</td>\n      <td>1</td>\n    </tr>\n  </tbody>\n</table>\n</div>"
     },
     "execution_count": 4,
     "metadata": {},
     "output_type": "execute_result"
    }
   ],
   "source": [
    "tv_radio_station_df = query_or_load(module=tv_radio_station, refresh=False)\n",
    "tv_radio_station_df.head(5)"
   ]
  },
  {
   "cell_type": "markdown",
   "metadata": {
    "pycharm": {
     "name": "#%% md\n"
    }
   },
   "source": [
    "#### City and State Coordinates <a name=\"2\"></a>\n",
    "\n",
    "[back to top](#toc)"
   ]
  },
  {
   "cell_type": "code",
   "execution_count": 5,
   "metadata": {
    "pycharm": {
     "name": "#%%\n"
    }
   },
   "outputs": [
    {
     "data": {
      "text/plain": "          city state_id  state_name      lat       lng\n0     New York       NY    New York  40.6943  -73.9249\n1  Los Angeles       CA  California  34.1139 -118.4068\n2      Chicago       IL    Illinois  41.8373  -87.6862\n3        Miami       FL     Florida  25.7839  -80.2102\n4       Dallas       TX       Texas  32.7936  -96.7662",
      "text/html": "<div>\n<style scoped>\n    .dataframe tbody tr th:only-of-type {\n        vertical-align: middle;\n    }\n\n    .dataframe tbody tr th {\n        vertical-align: top;\n    }\n\n    .dataframe thead th {\n        text-align: right;\n    }\n</style>\n<table border=\"1\" class=\"dataframe\">\n  <thead>\n    <tr style=\"text-align: right;\">\n      <th></th>\n      <th>city</th>\n      <th>state_id</th>\n      <th>state_name</th>\n      <th>lat</th>\n      <th>lng</th>\n    </tr>\n  </thead>\n  <tbody>\n    <tr>\n      <th>0</th>\n      <td>New York</td>\n      <td>NY</td>\n      <td>New York</td>\n      <td>40.6943</td>\n      <td>-73.9249</td>\n    </tr>\n    <tr>\n      <th>1</th>\n      <td>Los Angeles</td>\n      <td>CA</td>\n      <td>California</td>\n      <td>34.1139</td>\n      <td>-118.4068</td>\n    </tr>\n    <tr>\n      <th>2</th>\n      <td>Chicago</td>\n      <td>IL</td>\n      <td>Illinois</td>\n      <td>41.8373</td>\n      <td>-87.6862</td>\n    </tr>\n    <tr>\n      <th>3</th>\n      <td>Miami</td>\n      <td>FL</td>\n      <td>Florida</td>\n      <td>25.7839</td>\n      <td>-80.2102</td>\n    </tr>\n    <tr>\n      <th>4</th>\n      <td>Dallas</td>\n      <td>TX</td>\n      <td>Texas</td>\n      <td>32.7936</td>\n      <td>-96.7662</td>\n    </tr>\n  </tbody>\n</table>\n</div>"
     },
     "execution_count": 5,
     "metadata": {},
     "output_type": "execute_result"
    }
   ],
   "source": [
    "geolocation_df = pd.read_csv('../content/data/uscities.csv')\n",
    "geolocation_df[['city', 'state_id', 'state_name', 'lat','lng']].head(5)"
   ]
  },
  {
   "cell_type": "markdown",
   "metadata": {},
   "source": [
    "#### Join Coordinates and Stations <a name=\"3\"></a>\n",
    "\n",
    "[back to top](#toc)"
   ]
  },
  {
   "cell_type": "code",
   "execution_count": 6,
   "metadata": {
    "pycharm": {
     "name": "#%%\n"
    }
   },
   "outputs": [
    {
     "data": {
      "text/plain": "        city state_name      lat      lng             service    status  \\\n0  St. Louis   Missouri  38.6358 -90.2451          Digital TV  LICENSED   \n1  St. Louis   Missouri  38.6358 -90.2451  Digital Class A TV  LICENSED   \n2  St. Louis   Missouri  38.6358 -90.2451          FM Station  LICENSED   \n\n   number_of_stations  \n0                   6  \n1                   1  \n2                   9  ",
      "text/html": "<div>\n<style scoped>\n    .dataframe tbody tr th:only-of-type {\n        vertical-align: middle;\n    }\n\n    .dataframe tbody tr th {\n        vertical-align: top;\n    }\n\n    .dataframe thead th {\n        text-align: right;\n    }\n</style>\n<table border=\"1\" class=\"dataframe\">\n  <thead>\n    <tr style=\"text-align: right;\">\n      <th></th>\n      <th>city</th>\n      <th>state_name</th>\n      <th>lat</th>\n      <th>lng</th>\n      <th>service</th>\n      <th>status</th>\n      <th>number_of_stations</th>\n    </tr>\n  </thead>\n  <tbody>\n    <tr>\n      <th>0</th>\n      <td>St. Louis</td>\n      <td>Missouri</td>\n      <td>38.6358</td>\n      <td>-90.2451</td>\n      <td>Digital TV</td>\n      <td>LICENSED</td>\n      <td>6</td>\n    </tr>\n    <tr>\n      <th>1</th>\n      <td>St. Louis</td>\n      <td>Missouri</td>\n      <td>38.6358</td>\n      <td>-90.2451</td>\n      <td>Digital Class A TV</td>\n      <td>LICENSED</td>\n      <td>1</td>\n    </tr>\n    <tr>\n      <th>2</th>\n      <td>St. Louis</td>\n      <td>Missouri</td>\n      <td>38.6358</td>\n      <td>-90.2451</td>\n      <td>FM Station</td>\n      <td>LICENSED</td>\n      <td>9</td>\n    </tr>\n  </tbody>\n</table>\n</div>"
     },
     "execution_count": 6,
     "metadata": {},
     "output_type": "execute_result"
    }
   ],
   "source": [
    "geo_tv_radio_station_df = tv_radio_station_df.merge(\n",
    "    geolocation_df,\n",
    "    how='inner',\n",
    "    left_on=['communityCity', 'communityState'],\n",
    "    right_on=['city', 'state_id']\n",
    ")\n",
    "\n",
    "geo_tv_radio_station_df = geo_tv_radio_station_df[['city', 'state_name', 'lat', 'lng', 'service', 'status', 'number_of_stations']]\n",
    "geo_tv_radio_station_df.head(3)"
   ]
  },
  {
   "cell_type": "markdown",
   "metadata": {},
   "source": [
    "#### High Level Aggregation <a name=\"4\"></a>\n",
    "\n",
    "[back to top](#toc)"
   ]
  },
  {
   "cell_type": "code",
   "execution_count": 7,
   "metadata": {
    "pycharm": {
     "name": "#%%\n"
    }
   },
   "outputs": [
    {
     "data": {
      "text/plain": "   state_name  number_of_stations\n0     Alabama                 409\n1      Alaska                 201\n2     Arizona                 288\n3    Arkansas                 336\n4  California                1045",
      "text/html": "<div>\n<style scoped>\n    .dataframe tbody tr th:only-of-type {\n        vertical-align: middle;\n    }\n\n    .dataframe tbody tr th {\n        vertical-align: top;\n    }\n\n    .dataframe thead th {\n        text-align: right;\n    }\n</style>\n<table border=\"1\" class=\"dataframe\">\n  <thead>\n    <tr style=\"text-align: right;\">\n      <th></th>\n      <th>state_name</th>\n      <th>number_of_stations</th>\n    </tr>\n  </thead>\n  <tbody>\n    <tr>\n      <th>0</th>\n      <td>Alabama</td>\n      <td>409</td>\n    </tr>\n    <tr>\n      <th>1</th>\n      <td>Alaska</td>\n      <td>201</td>\n    </tr>\n    <tr>\n      <th>2</th>\n      <td>Arizona</td>\n      <td>288</td>\n    </tr>\n    <tr>\n      <th>3</th>\n      <td>Arkansas</td>\n      <td>336</td>\n    </tr>\n    <tr>\n      <th>4</th>\n      <td>California</td>\n      <td>1045</td>\n    </tr>\n  </tbody>\n</table>\n</div>"
     },
     "execution_count": 7,
     "metadata": {},
     "output_type": "execute_result"
    }
   ],
   "source": [
    "high_level_df = geo_tv_radio_station_df.groupby(['state_name']).aggregate('number_of_stations').sum()\n",
    "high_level_df = pd.DataFrame(high_level_df).reset_index()\n",
    "high_level_df.head(5)"
   ]
  },
  {
   "cell_type": "code",
   "execution_count": 8,
   "metadata": {
    "pycharm": {
     "name": "#%%\n"
    }
   },
   "outputs": [
    {
     "data": {
      "text/plain": "interactive(children=(IntSlider(value=1, description='min_stations', max=1249, min=1), IntSlider(value=624, de…",
      "application/vnd.jupyter.widget-view+json": {
       "version_major": 2,
       "version_minor": 0,
       "model_id": "3eec749e620142e59726ac36399ba660"
      }
     },
     "metadata": {},
     "output_type": "display_data"
    }
   ],
   "source": [
    "high_level = HighLevelTable(dataframe=high_level_df)\n",
    "high_level.display()\n"
   ]
  },
  {
   "cell_type": "markdown",
   "metadata": {},
   "source": [
    "#### More Detail <a name=\"5\"></a>\n",
    "\n",
    "[back to top](#toc)"
   ]
  },
  {
   "cell_type": "code",
   "execution_count": 9,
   "metadata": {
    "pycharm": {
     "name": "#%%\n"
    }
   },
   "outputs": [
    {
     "data": {
      "text/plain": "interactive(children=(Dropdown(description='state_name', options=('Alabama', 'Alaska', 'Arizona', 'Arkansas', …",
      "application/vnd.jupyter.widget-view+json": {
       "version_major": 2,
       "version_minor": 0,
       "model_id": "edd403e4d682497da19a3fcdd66356d4"
      }
     },
     "metadata": {},
     "output_type": "display_data"
    }
   ],
   "source": [
    "more_detail = MoreDetailTable(dataframe=geo_tv_radio_station_df)\n",
    "more_detail.display()"
   ]
  },
  {
   "cell_type": "markdown",
   "metadata": {},
   "source": [
    "#### Media Station Distribution <a name=\"6\"></a>\n",
    "\n",
    "[back to top](#toc)\n"
   ]
  },
  {
   "cell_type": "code",
   "execution_count": 10,
   "metadata": {
    "pycharm": {
     "name": "#%%\n"
    }
   },
   "outputs": [
    {
     "data": {
      "text/plain": "interactive(children=(Dropdown(description='service', options=('AM Station', 'Digital Class A TV', 'Digital TV…",
      "application/vnd.jupyter.widget-view+json": {
       "version_major": 2,
       "version_minor": 0,
       "model_id": "f4c68e022f1e44d6a143731f3898528f"
      }
     },
     "metadata": {},
     "output_type": "display_data"
    }
   ],
   "source": [
    "distribution = Distribution(dataframe=geo_tv_radio_station_df)\n",
    "distribution.display()"
   ]
  },
  {
   "cell_type": "markdown",
   "metadata": {},
   "source": [
    "#### Geographical Distribution by City <a name=\"7\"></a>\n",
    "\n",
    "[back to top](#toc)"
   ]
  },
  {
   "cell_type": "code",
   "execution_count": 11,
   "metadata": {
    "pycharm": {
     "name": "#%%\n"
    }
   },
   "outputs": [
    {
     "data": {
      "text/plain": "interactive(children=(Dropdown(description='service', options=('AM Station', 'Digital Class A TV', 'Digital TV…",
      "application/vnd.jupyter.widget-view+json": {
       "version_major": 2,
       "version_minor": 0,
       "model_id": "ebb783f0129547ed8578fcb623e87296"
      }
     },
     "metadata": {},
     "output_type": "display_data"
    }
   ],
   "source": [
    "us_map = USMap(dataframe=geo_tv_radio_station_df)\n",
    "us_map.display()"
   ]
  }
 ],
 "metadata": {
  "kernelspec": {
   "display_name": "Python 3",
   "language": "python",
   "name": "python3"
  },
  "language_info": {
   "codemirror_mode": {
    "name": "ipython",
    "version": 3
   },
   "file_extension": ".py",
   "mimetype": "text/x-python",
   "name": "python",
   "nbconvert_exporter": "python",
   "pygments_lexer": "ipython3",
   "version": "3.9.4"
  }
 },
 "nbformat": 4,
 "nbformat_minor": 1
}
