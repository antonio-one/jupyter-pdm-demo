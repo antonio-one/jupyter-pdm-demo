{
 "cells": [
  {
   "cell_type": "code",
   "execution_count": 1,
   "metadata": {
    "collapsed": true
   },
   "outputs": [],
   "source": [
    "import pandas as pd\n",
    "from google.cloud import bigquery\n",
    "from settings import DATA_DIR, RUN_QUERIES\n",
    "from jupyter_demo.adapters.repository import DataFrameRepository, BigQueryRepository\n",
    "from jupyter_demo.content.controls.control import TVRadio\n",
    "from jupyter_demo.content.plots import distribution, high_level, some_detail\n",
    "from jupyter_demo.options.interactive import set_interactive_opts\n",
    "from jupyter_demo.options.pandas import set_pandas_opts\n",
    "from jupyter_demo.options.plot import set_plot_opts\n",
    "from jupyter_demo.content.sql_queries import tv_radio_station\n",
    "from IPython.core.display import display\n",
    "import geopandas as gpd\n",
    "from shapely.geometry import Point\n",
    "import matplotlib.pyplot as plt"
   ]
  },
  {
   "cell_type": "code",
   "execution_count": 2,
   "metadata": {
    "pycharm": {
     "name": "#%%\n"
    }
   },
   "outputs": [],
   "source": [
    "set_pandas_opts()\n",
    "set_plot_opts()\n",
    "set_interactive_opts()"
   ]
  },
  {
   "cell_type": "markdown",
   "metadata": {
    "pycharm": {
     "name": "#%% md\n"
    }
   },
   "source": [
    "### Table of Contents <a name=\"toc\"></a>\n",
    "* [SQL Query](#sql-query)\n",
    "* [SQL Execution](#sql-execution)\n",
    "* [Sample Data](#sample-data)\n",
    "* [High Level Aggregation](#high-level)\n",
    "* [Add Some Detail](#more-detail)\n",
    "* [Distribution Plot](#distribution)\n",
    "* [See it on a Map](#see-map\")\n"
   ]
  },
  {
   "cell_type": "markdown",
   "metadata": {
    "pycharm": {
     "name": "#%% md\n"
    }
   },
   "source": [
    "### SQL Query <a name=\"sql-query\"></a>\n",
    "Check out the radio station distribution in the US.\n",
    "\n",
    "[back to top](#toc)"
   ]
  },
  {
   "cell_type": "code",
   "execution_count": 3,
   "metadata": {
    "pycharm": {
     "name": "#%%\n"
    }
   },
   "outputs": [
    {
     "name": "stdout",
     "output_type": "stream",
     "text": [
      "\n",
      "SELECT\n",
      "    communityState,\n",
      "    INITCAP(communityCity) as communityCity,\n",
      "    service,\n",
      "    status,\n",
      "    COUNT(DISTINCT stationId) AS number_of_stations\n",
      "FROM `bigquery-public-data.fcc_political_ads.broadcast_tv_radio_station`\n",
      "GROUP BY communityState, communityCity, service, status\n",
      "\n"
     ]
    }
   ],
   "source": [
    "print(tv_radio_station.sql_command)"
   ]
  },
  {
   "cell_type": "markdown",
   "metadata": {},
   "source": [
    "### SQL Execution <a name=\"sql-execution\"></a>\n",
    "\n",
    "[back to top](#toc)"
   ]
  },
  {
   "cell_type": "code",
   "execution_count": 4,
   "metadata": {
    "pycharm": {
     "name": "#%%\n"
    }
   },
   "outputs": [
    {
     "data": {
      "text/plain": "Downloading:   0%|          | 0/11148 [00:00<?, ?rows/s]",
      "application/vnd.jupyter.widget-view+json": {
       "version_major": 2,
       "version_minor": 0,
       "model_id": "2179bb9abfa4424daaca27e5b2fc07d9"
      }
     },
     "metadata": {},
     "output_type": "display_data"
    }
   ],
   "source": [
    "df_repository = DataFrameRepository(repository_path=DATA_DIR)\n",
    "bq_repository = BigQueryRepository(client=bigquery.Client())\n",
    "filename = 'broadcast_tv_radio_station.fth'\n",
    "\n",
    "if RUN_QUERIES:\n",
    "    tv_radio_station_df = bq_repository.get_df(sql_command=tv_radio_station.sql_command)\n",
    "    df_repository.add(data_frame=tv_radio_station_df, filename=filename)\n",
    "else:\n",
    "    tv_radio_station_df = df_repository.get(filename=filename)\n"
   ]
  },
  {
   "cell_type": "markdown",
   "metadata": {},
   "source": [
    "### Sample Data <a name=\"sample-data\"></a>\n",
    "\n",
    "[back to top](#toc)\n",
    "\n",
    "Broadcast tv/radio stations"
   ]
  },
  {
   "cell_type": "code",
   "execution_count": 19,
   "metadata": {
    "pycharm": {
     "name": "#%%\n"
    }
   },
   "outputs": [
    {
     "data": {
      "text/plain": "  communityState communityCity     service    status  number_of_stations\n0             MO     St. Louis  Digital TV  LICENSED                   6\n1             CA         Mecca  FM Station  LICENSED                   3\n2             PR    Rio Grande  FM Station  LICENSED                   1",
      "text/html": "<div>\n<style scoped>\n    .dataframe tbody tr th:only-of-type {\n        vertical-align: middle;\n    }\n\n    .dataframe tbody tr th {\n        vertical-align: top;\n    }\n\n    .dataframe thead th {\n        text-align: right;\n    }\n</style>\n<table border=\"1\" class=\"dataframe\">\n  <thead>\n    <tr style=\"text-align: right;\">\n      <th></th>\n      <th>communityState</th>\n      <th>communityCity</th>\n      <th>service</th>\n      <th>status</th>\n      <th>number_of_stations</th>\n    </tr>\n  </thead>\n  <tbody>\n    <tr>\n      <th>0</th>\n      <td>MO</td>\n      <td>St. Louis</td>\n      <td>Digital TV</td>\n      <td>LICENSED</td>\n      <td>6</td>\n    </tr>\n    <tr>\n      <th>1</th>\n      <td>CA</td>\n      <td>Mecca</td>\n      <td>FM Station</td>\n      <td>LICENSED</td>\n      <td>3</td>\n    </tr>\n    <tr>\n      <th>2</th>\n      <td>PR</td>\n      <td>Rio Grande</td>\n      <td>FM Station</td>\n      <td>LICENSED</td>\n      <td>1</td>\n    </tr>\n  </tbody>\n</table>\n</div>"
     },
     "metadata": {},
     "output_type": "display_data"
    }
   ],
   "source": [
    "display(tv_radio_station_df.head(3))"
   ]
  },
  {
   "cell_type": "markdown",
   "metadata": {
    "pycharm": {
     "name": "#%% md\n"
    }
   },
   "source": [
    "Latitudes and longitudes for each city and state"
   ]
  },
  {
   "cell_type": "code",
   "execution_count": 22,
   "metadata": {
    "pycharm": {
     "name": "#%%\n"
    }
   },
   "outputs": [
    {
     "data": {
      "text/plain": "          city state_id  state_name      lat       lng\n0     New York       NY    New York  40.6943  -73.9249\n1  Los Angeles       CA  California  34.1139 -118.4068\n2      Chicago       IL    Illinois  41.8373  -87.6862",
      "text/html": "<div>\n<style scoped>\n    .dataframe tbody tr th:only-of-type {\n        vertical-align: middle;\n    }\n\n    .dataframe tbody tr th {\n        vertical-align: top;\n    }\n\n    .dataframe thead th {\n        text-align: right;\n    }\n</style>\n<table border=\"1\" class=\"dataframe\">\n  <thead>\n    <tr style=\"text-align: right;\">\n      <th></th>\n      <th>city</th>\n      <th>state_id</th>\n      <th>state_name</th>\n      <th>lat</th>\n      <th>lng</th>\n    </tr>\n  </thead>\n  <tbody>\n    <tr>\n      <th>0</th>\n      <td>New York</td>\n      <td>NY</td>\n      <td>New York</td>\n      <td>40.6943</td>\n      <td>-73.9249</td>\n    </tr>\n    <tr>\n      <th>1</th>\n      <td>Los Angeles</td>\n      <td>CA</td>\n      <td>California</td>\n      <td>34.1139</td>\n      <td>-118.4068</td>\n    </tr>\n    <tr>\n      <th>2</th>\n      <td>Chicago</td>\n      <td>IL</td>\n      <td>Illinois</td>\n      <td>41.8373</td>\n      <td>-87.6862</td>\n    </tr>\n  </tbody>\n</table>\n</div>"
     },
     "execution_count": 22,
     "metadata": {},
     "output_type": "execute_result"
    }
   ],
   "source": [
    "geolocation_df = pd.read_csv('../content/data/uscities.csv')\n",
    "geolocation_df[['city', 'state_id', 'state_name', 'lat','lng']].head(3)"
   ]
  },
  {
   "cell_type": "markdown",
   "metadata": {},
   "source": [
    "Join the geo data with the stations"
   ]
  },
  {
   "cell_type": "code",
   "execution_count": 23,
   "metadata": {
    "pycharm": {
     "name": "#%%\n"
    }
   },
   "outputs": [
    {
     "data": {
      "text/plain": "        city state_name      lat      lng             service    status  \\\n0  St. Louis   Missouri  38.6358 -90.2451          Digital TV  LICENSED   \n1  St. Louis   Missouri  38.6358 -90.2451  Digital Class A TV  LICENSED   \n2  St. Louis   Missouri  38.6358 -90.2451          FM Station  LICENSED   \n\n   number_of_stations  \n0                   6  \n1                   1  \n2                   9  ",
      "text/html": "<div>\n<style scoped>\n    .dataframe tbody tr th:only-of-type {\n        vertical-align: middle;\n    }\n\n    .dataframe tbody tr th {\n        vertical-align: top;\n    }\n\n    .dataframe thead th {\n        text-align: right;\n    }\n</style>\n<table border=\"1\" class=\"dataframe\">\n  <thead>\n    <tr style=\"text-align: right;\">\n      <th></th>\n      <th>city</th>\n      <th>state_name</th>\n      <th>lat</th>\n      <th>lng</th>\n      <th>service</th>\n      <th>status</th>\n      <th>number_of_stations</th>\n    </tr>\n  </thead>\n  <tbody>\n    <tr>\n      <th>0</th>\n      <td>St. Louis</td>\n      <td>Missouri</td>\n      <td>38.6358</td>\n      <td>-90.2451</td>\n      <td>Digital TV</td>\n      <td>LICENSED</td>\n      <td>6</td>\n    </tr>\n    <tr>\n      <th>1</th>\n      <td>St. Louis</td>\n      <td>Missouri</td>\n      <td>38.6358</td>\n      <td>-90.2451</td>\n      <td>Digital Class A TV</td>\n      <td>LICENSED</td>\n      <td>1</td>\n    </tr>\n    <tr>\n      <th>2</th>\n      <td>St. Louis</td>\n      <td>Missouri</td>\n      <td>38.6358</td>\n      <td>-90.2451</td>\n      <td>FM Station</td>\n      <td>LICENSED</td>\n      <td>9</td>\n    </tr>\n  </tbody>\n</table>\n</div>"
     },
     "execution_count": 23,
     "metadata": {},
     "output_type": "execute_result"
    }
   ],
   "source": [
    "geo_tv_radio_station_df = tv_radio_station_df.merge(\n",
    "    geolocation_df,\n",
    "    how='inner',\n",
    "    left_on=['communityCity', 'communityState'],\n",
    "    right_on=['city', 'state_id']\n",
    ")\n",
    "\n",
    "geo_tv_radio_station_df = geo_tv_radio_station_df[['city', 'state_name', 'lat', 'lng', 'service', 'status', 'number_of_stations']]\n",
    "geo_tv_radio_station_df.head(3)"
   ]
  },
  {
   "cell_type": "markdown",
   "metadata": {},
   "source": [
    "### High Level Aggregation <a name=\"high-level\"></a>\n",
    "\n",
    "[back to top](#toc)"
   ]
  },
  {
   "cell_type": "code",
   "execution_count": 24,
   "metadata": {
    "pycharm": {
     "name": "#%%\n"
    }
   },
   "outputs": [
    {
     "data": {
      "text/plain": "  state_name  number_of_stations\n0    Alabama                 409\n1     Alaska                 201\n2    Arizona                 288",
      "text/html": "<div>\n<style scoped>\n    .dataframe tbody tr th:only-of-type {\n        vertical-align: middle;\n    }\n\n    .dataframe tbody tr th {\n        vertical-align: top;\n    }\n\n    .dataframe thead th {\n        text-align: right;\n    }\n</style>\n<table border=\"1\" class=\"dataframe\">\n  <thead>\n    <tr style=\"text-align: right;\">\n      <th></th>\n      <th>state_name</th>\n      <th>number_of_stations</th>\n    </tr>\n  </thead>\n  <tbody>\n    <tr>\n      <th>0</th>\n      <td>Alabama</td>\n      <td>409</td>\n    </tr>\n    <tr>\n      <th>1</th>\n      <td>Alaska</td>\n      <td>201</td>\n    </tr>\n    <tr>\n      <th>2</th>\n      <td>Arizona</td>\n      <td>288</td>\n    </tr>\n  </tbody>\n</table>\n</div>"
     },
     "execution_count": 24,
     "metadata": {},
     "output_type": "execute_result"
    }
   ],
   "source": [
    "high_level_df = geo_tv_radio_station_df.groupby(['state_name']).aggregate('number_of_stations').sum()\n",
    "high_level_df = pd.DataFrame(high_level_df).reset_index()\n",
    "high_level_df.head(3)"
   ]
  },
  {
   "cell_type": "code",
   "execution_count": 25,
   "metadata": {
    "pycharm": {
     "name": "#%%\n"
    }
   },
   "outputs": [
    {
     "data": {
      "text/plain": "interactive(children=(IntSlider(value=1, description='min_stations', max=1249, min=1), IntSlider(value=624, de…",
      "application/vnd.jupyter.widget-view+json": {
       "version_major": 2,
       "version_minor": 0,
       "model_id": "0a0cce1aaa61440998b31435a3f7cf5f"
      }
     },
     "metadata": {},
     "output_type": "display_data"
    }
   ],
   "source": [
    "tv_radio = TVRadio(data_frame=high_level_df)\n",
    "high_level.display(tv_radio=tv_radio, data_frame=high_level_df)\n"
   ]
  },
  {
   "cell_type": "markdown",
   "metadata": {},
   "source": [
    "### Add some more detail <a name=\"more-detail\"></a>\n",
    "\n",
    "[back to top](#toc)"
   ]
  },
  {
   "cell_type": "code",
   "execution_count": 10,
   "metadata": {
    "pycharm": {
     "name": "#%%\n"
    }
   },
   "outputs": [
    {
     "data": {
      "text/plain": "interactive(children=(Dropdown(description='state_name', options=('Alabama', 'Alaska', 'Arizona', 'Arkansas', …",
      "application/vnd.jupyter.widget-view+json": {
       "version_major": 2,
       "version_minor": 0,
       "model_id": "9e28a40e1f8f47f39a625219326aa7ef"
      }
     },
     "metadata": {},
     "output_type": "display_data"
    }
   ],
   "source": [
    "tv_radio = TVRadio(data_frame=geo_tv_radio_station_df)\n",
    "some_detail.display(tv_radio=tv_radio, data_frame=geo_tv_radio_station_df)"
   ]
  },
  {
   "cell_type": "markdown",
   "metadata": {},
   "source": [
    "### Distribution Plot <a name=\"distribution\"></a>\n",
    "\n",
    "[back to top](#toc)\n"
   ]
  },
  {
   "cell_type": "code",
   "execution_count": 11,
   "metadata": {
    "pycharm": {
     "name": "#%%\n"
    }
   },
   "outputs": [
    {
     "data": {
      "text/plain": "interactive(children=(Dropdown(description='service', options=('AM Station', 'Digital Class A TV', 'Digital TV…",
      "application/vnd.jupyter.widget-view+json": {
       "version_major": 2,
       "version_minor": 0,
       "model_id": "774f41ed1abb40f5b0ebc40c7ee25e72"
      }
     },
     "metadata": {},
     "output_type": "display_data"
    }
   ],
   "source": [
    "distribution.display(tv_radio=tv_radio, data_frame=geo_tv_radio_station_df)"
   ]
  },
  {
   "cell_type": "markdown",
   "metadata": {},
   "source": [
    "### See it on a map <a name=\"see-map\"></a>\n",
    "\n",
    "[back to top](#toc)"
   ]
  },
  {
   "cell_type": "code",
   "execution_count": 12,
   "metadata": {
    "pycharm": {
     "name": "#%%\n"
    }
   },
   "outputs": [],
   "source": [
    "world = gpd.read_file(gpd.datasets.get_path('naturalearth_lowres'))\n",
    "north_america = world.query('continent == \"North America\"')"
   ]
  },
  {
   "cell_type": "code",
   "execution_count": 13,
   "metadata": {
    "pycharm": {
     "name": "#%%\n"
    }
   },
   "outputs": [
    {
     "data": {
      "text/plain": "[<shapely.geometry.point.Point at 0x13c660a30>,\n <shapely.geometry.point.Point at 0x13c660ee0>,\n <shapely.geometry.point.Point at 0x13c660f70>]"
     },
     "execution_count": 13,
     "metadata": {},
     "output_type": "execute_result"
    }
   ],
   "source": [
    "geometry = [Point(xy) for xy in zip(geo_tv_radio_station_df['lng'], geo_tv_radio_station_df['lat'])]\n",
    "geometry[:3]"
   ]
  },
  {
   "cell_type": "code",
   "execution_count": 14,
   "metadata": {
    "pycharm": {
     "name": "#%%\n"
    }
   },
   "outputs": [
    {
     "data": {
      "text/plain": "        city state_name      lat      lng             service    status  \\\n0  St. Louis   Missouri  38.6358 -90.2451          Digital TV  LICENSED   \n1  St. Louis   Missouri  38.6358 -90.2451  Digital Class A TV  LICENSED   \n2  St. Louis   Missouri  38.6358 -90.2451          FM Station  LICENSED   \n\n   number_of_stations                    geometry  \n0                   6  POINT (-90.24510 38.63580)  \n1                   1  POINT (-90.24510 38.63580)  \n2                   9  POINT (-90.24510 38.63580)  ",
      "text/html": "<div>\n<style scoped>\n    .dataframe tbody tr th:only-of-type {\n        vertical-align: middle;\n    }\n\n    .dataframe tbody tr th {\n        vertical-align: top;\n    }\n\n    .dataframe thead th {\n        text-align: right;\n    }\n</style>\n<table border=\"1\" class=\"dataframe\">\n  <thead>\n    <tr style=\"text-align: right;\">\n      <th></th>\n      <th>city</th>\n      <th>state_name</th>\n      <th>lat</th>\n      <th>lng</th>\n      <th>service</th>\n      <th>status</th>\n      <th>number_of_stations</th>\n      <th>geometry</th>\n    </tr>\n  </thead>\n  <tbody>\n    <tr>\n      <th>0</th>\n      <td>St. Louis</td>\n      <td>Missouri</td>\n      <td>38.6358</td>\n      <td>-90.2451</td>\n      <td>Digital TV</td>\n      <td>LICENSED</td>\n      <td>6</td>\n      <td>POINT (-90.24510 38.63580)</td>\n    </tr>\n    <tr>\n      <th>1</th>\n      <td>St. Louis</td>\n      <td>Missouri</td>\n      <td>38.6358</td>\n      <td>-90.2451</td>\n      <td>Digital Class A TV</td>\n      <td>LICENSED</td>\n      <td>1</td>\n      <td>POINT (-90.24510 38.63580)</td>\n    </tr>\n    <tr>\n      <th>2</th>\n      <td>St. Louis</td>\n      <td>Missouri</td>\n      <td>38.6358</td>\n      <td>-90.2451</td>\n      <td>FM Station</td>\n      <td>LICENSED</td>\n      <td>9</td>\n      <td>POINT (-90.24510 38.63580)</td>\n    </tr>\n  </tbody>\n</table>\n</div>"
     },
     "execution_count": 14,
     "metadata": {},
     "output_type": "execute_result"
    }
   ],
   "source": [
    "geometry_df = gpd.GeoDataFrame(\n",
    "    geo_tv_radio_station_df,\n",
    "    geometry = geometry\n",
    ")\n",
    "\n",
    "geometry_df.head(3)"
   ]
  },
  {
   "cell_type": "code",
   "execution_count": 15,
   "metadata": {
    "pycharm": {
     "name": "#%%\n"
    },
    "scrolled": false
   },
   "outputs": [
    {
     "data": {
      "text/plain": "interactive(children=(Dropdown(description='service', options=('AM Station', 'Digital Class A TV', 'Digital TV…",
      "application/vnd.jupyter.widget-view+json": {
       "version_major": 2,
       "version_minor": 0,
       "model_id": "66fceea4ea0047e7bfe51742b811f571"
      }
     },
     "metadata": {},
     "output_type": "display_data"
    }
   ],
   "source": [
    "from ipywidgets import interact_manual, interact\n",
    "import mplcursors\n",
    "\n",
    "@interact_manual\n",
    "def _display(service=tv_radio.service, status=tv_radio.licence_status):\n",
    "    #TODO: break this out to a different module\n",
    "    plt.close()\n",
    "\n",
    "    _geo_tv_radio_station_df = geo_tv_radio_station_df[\n",
    "            (geo_tv_radio_station_df['service'] == service)\n",
    "            & (geo_tv_radio_station_df['status'] == status)\n",
    "        ]\n",
    "\n",
    "    _geometry = [Point(xy) for xy in zip(_geo_tv_radio_station_df['lng'], _geo_tv_radio_station_df['lat'])]\n",
    "\n",
    "    _geometry_df  = gpd.GeoDataFrame(\n",
    "        _geo_tv_radio_station_df,\n",
    "        geometry = _geometry\n",
    "    )\n",
    "\n",
    "    fig, ax = plt.subplots()\n",
    "    ax.set_title(f\"US {status.title()} {service}\")\n",
    "\n",
    "    north_america.plot(\n",
    "        ax=ax,\n",
    "        alpha=0.2,\n",
    "        color=\"#00296b\",\n",
    "        edgecolor=\"#faf6f6\"\n",
    "    )\n",
    "\n",
    "    for i in range(_geometry_df['number_of_stations'].max()):\n",
    "        _geometry_df[_geometry_df['number_of_stations'] == i].\\\n",
    "            plot(ax=ax,\n",
    "                 alpha=0.5,\n",
    "                 markersize=i*10,\n",
    "                 label=_geometry_df['number_of_stations']\n",
    "                 )\n",
    "\n",
    "        mplcursors.cursor(hover=True)\n",
    "    plt.show()"
   ]
  }
 ],
 "metadata": {
  "kernelspec": {
   "display_name": "Python 3",
   "language": "python",
   "name": "python3"
  },
  "language_info": {
   "codemirror_mode": {
    "name": "ipython",
    "version": 3
   },
   "file_extension": ".py",
   "mimetype": "text/x-python",
   "name": "python",
   "nbconvert_exporter": "python",
   "pygments_lexer": "ipython3",
   "version": "3.9.4"
  }
 },
 "nbformat": 4,
 "nbformat_minor": 1
}
